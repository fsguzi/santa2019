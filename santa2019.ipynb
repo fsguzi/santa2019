{
 "cells": [
  {
   "cell_type": "code",
   "execution_count": 1,
   "metadata": {},
   "outputs": [],
   "source": [
    "import numpy as np\n",
    "import matplotlib.pyplot as plt\n",
    "import pandas as pd"
   ]
  },
  {
   "cell_type": "code",
   "execution_count": 15,
   "metadata": {},
   "outputs": [],
   "source": [
    "def accounting(arr):\n",
    "    asd = (arr[:-1]-125)/400*(arr[:-1]**(0.5+(abs(arr[:-1]-arr[1:])/50)))\n",
    "    last = arr[-1]\n",
    "    last = (last-125)/400*(last**0.5)\n",
    "    return asd.sum()+last\n",
    "\n",
    "def total(sol,d):\n",
    "    global cost\n",
    "    \n",
    "    return cost[np.arange(5000),sol].sum()+accounting(d)"
   ]
  },
  {
   "cell_type": "code",
   "execution_count": 3,
   "metadata": {},
   "outputs": [],
   "source": [
    "df = pd.read_csv('family_data.csv')\n",
    "\n",
    "choice = df.iloc[:,1:-1].values - 1\n",
    "people = df.iloc[:,-1].values\n",
    "cost = np.ones([5000,100],dtype = int)*500 + (36+398)*people.reshape(5000,1)\n",
    "\n",
    "fixed = [0,50,50,100,200,200,300,300,400,500]\n",
    "variable = [0,0,9,9,9,18,18,36,36,36+199]\n",
    "for f in range(5000):\n",
    "    for d in range(10):\n",
    "        day = choice[f,d]\n",
    "        cost[f,day] = fixed[d]+variable[d]*people[f]"
   ]
  },
  {
   "cell_type": "code",
   "execution_count": 12,
   "metadata": {},
   "outputs": [],
   "source": [
    "base = pd.read_csv('base.csv').iloc[:,1].values-1\n",
    "day = np.zeros(100)\n",
    "for i,n in enumerate(base):\n",
    "    day[n] += people[i]"
   ]
  },
  {
   "cell_type": "code",
   "execution_count": 19,
   "metadata": {},
   "outputs": [
    {
     "name": "stdout",
     "output_type": "stream",
     "text": [
      "0 0 61647\n",
      "1000 7 61034\n",
      "2000 11 60939\n",
      "3000 14 60898\n",
      "4000 16 60821\n",
      "21\n",
      "0 0 60557\n",
      "1000 0 60557\n",
      "2000 0 60557\n",
      "3000 0 60557\n",
      "4000 0 60557\n",
      "0\n",
      "0 0 60557\n",
      "1000 0 60557\n",
      "2000 0 60557\n",
      "3000 0 60557\n",
      "4000 0 60557\n",
      "0\n",
      "0 0 60557\n",
      "1000 0 60557\n",
      "2000 0 60557\n",
      "3000 0 60557\n",
      "4000 0 60557\n",
      "0\n"
     ]
    }
   ],
   "source": [
    "score = []\n",
    "for _ in range(4):\n",
    "    done = 0\n",
    "    for f in range(5000):\n",
    "        if f%1000==0:\n",
    "            print(f,done,cost[np.arange(5000),base].sum())\n",
    "        current_day = base[f]\n",
    "        current_cost = cost[f,current_day]\n",
    "        n = people[f]\n",
    "        for f2 in range(5000):\n",
    "            current_day2 = base[f2]\n",
    "            current_cost2 = cost[f2,current_day2]\n",
    "            n2 = people[f2]\n",
    "            if 125<=day[current_day]-n+n2<=300 and 125<=day[current_day2]-n2+n<=300:\n",
    "                improve1 = cost[f,current_day2]-current_cost\n",
    "                improve2 = cost[f2,current_day]-current_cost2\n",
    "                if improve1+improve2 < 0:\n",
    "                    base[f] = current_day2\n",
    "                    base[f2] = current_day\n",
    "                    day[current_day] -= n\n",
    "                    day[current_day] += n2\n",
    "                    day[current_day2] += n\n",
    "                    day[current_day2] -= n2\n",
    "                    done += 1\n",
    "                    score.append(cost[np.arange(5000),base].sum())\n",
    "    print(done)"
   ]
  },
  {
   "cell_type": "code",
   "execution_count": 20,
   "metadata": {},
   "outputs": [
    {
     "name": "stdout",
     "output_type": "stream",
     "text": [
      "0 0 60557\n",
      "1000 2 60457\n",
      "2000 3 60371\n",
      "3000 4 60303\n",
      "4000 7 60153\n",
      "8\n",
      "0 0 60035\n",
      "1000 2 59935\n",
      "2000 2 59935\n",
      "3000 2 59935\n",
      "4000 2 59935\n",
      "2\n",
      "0 0 59935\n",
      "1000 0 59935\n",
      "2000 0 59935\n",
      "3000 0 59935\n",
      "4000 0 59935\n",
      "0\n",
      "0 0 59935\n",
      "1000 0 59935\n",
      "2000 0 59935\n",
      "3000 0 59935\n",
      "4000 0 59935\n",
      "0\n",
      "0 0 59935\n",
      "1000 0 59935\n",
      "2000 0 59935\n",
      "3000 0 59935\n",
      "4000 0 59935\n",
      "0\n"
     ]
    }
   ],
   "source": [
    "for _ in range(5):\n",
    "    done = 0\n",
    "    for f in range(5000):\n",
    "        if f%1000==0:\n",
    "            print(f,done,cost[np.arange(5000),base].sum())\n",
    "        current_day = base[f]\n",
    "        current_cost = cost[f,current_day]\n",
    "        n = people[f]\n",
    "        for current_day2 in range(100):\n",
    "            \n",
    "            if 125<=day[current_day]-n<=300 and 125<=day[current_day2]+n<=300:\n",
    "                improve = cost[f,current_day2]-current_cost\n",
    "                \n",
    "                if improve < 0:\n",
    "                    base[f] = current_day2\n",
    "                    \n",
    "                    day[current_day] -= n\n",
    "                    \n",
    "                    day[current_day2] += n\n",
    "                    done += 1\n",
    "                    score.append(cost[np.arange(5000),base].sum())\n",
    "    print(done)"
   ]
  },
  {
   "cell_type": "code",
   "execution_count": 21,
   "metadata": {},
   "outputs": [
    {
     "data": {
      "text/plain": [
       "[<matplotlib.lines.Line2D at 0x1e56a833488>]"
      ]
     },
     "execution_count": 21,
     "metadata": {},
     "output_type": "execute_result"
    },
    {
     "data": {
      "image/png": "[encoded data removed]",
      "text/plain": [
       "<Figure size 432x288 with 1 Axes>"
      ]
     },
     "metadata": {
      "needs_background": "light"
     },
     "output_type": "display_data"
    }
   ],
   "source": [
    "plt.plot(score)"
   ]
  }
 ],
 "metadata": {
  "kernelspec": {
   "display_name": "Python 3",
   "language": "python",
   "name": "python3"
  },
  "language_info": {
   "codemirror_mode": {
    "name": "ipython",
    "version": 3
   },
   "file_extension": ".py",
   "mimetype": "text/x-python",
   "name": "python",
   "nbconvert_exporter": "python",
   "pygments_lexer": "ipython3",
   "version": "3.7.4"
  }
 },
 "nbformat": 4,
 "nbformat_minor": 2
}
